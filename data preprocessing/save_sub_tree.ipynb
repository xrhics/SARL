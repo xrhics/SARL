{
 "cells": [
  {
   "cell_type": "code",
   "execution_count": 3,
   "metadata": {},
   "outputs": [],
   "source": [
    "def get_topk(k,city,length,min_count):  ##TFIDF\n",
    "#     file=\"E:/LAND USE/data/\" + city + \"/\" + city + \"_\" + str(length) + \"cell_point_tree#\" + str(min_count) + \".csv\"\n",
    "    file=\"E:/LAND USE/data/\" + city + \"/\" + city + \"_\" + str(length) + \"cell_poi_tf-idf#\" + str(min_count) + \"_new.csv\"\n",
    "    data=pd.read_csv(file)\n",
    "    data_new=[]\n",
    "    for i in tqdm(range(len(data))):\n",
    "        data_row=data.loc[i].tolist()[1:]\n",
    "        data_map={j:data_row[j] for j in range(len(data_row))}\n",
    "        data_map=sorted(data_map.items(),key = lambda x:x[1],reverse = True)\n",
    "        data_row_new=[data.loc[i,'0']]+[0 for j in range(len(data_row))]\n",
    "        num=0\n",
    "        for key,value in data_map:\n",
    "            if num>=k:\n",
    "                break\n",
    "            num+=1\n",
    "            data_row_new[key+1]=value\n",
    "        data_new.append(data_row_new)\n",
    "    data_df=pd.DataFrame(data_new)\n",
    "#     out_file=\"E:/LAND USE/data/\" + city + \"/\" + city + \"_\" + str(length) + \"cell_tree_sub#\"+str(min_count)+\"$k=\"+str(k)+\".csv\"\n",
    "    out_file=\"E:/LAND USE/data/\" + city + \"/\" + city + \"_\" + str(length) + \"cell_poi_tf-idf_sub#\"+str(min_count)+\"$k=\"+str(k)+\"_new.csv\"\n",
    "    data_df.to_csv(out_file,index=False,header=False)\n",
    "    return data_new"
   ]
  },
  {
   "cell_type": "code",
   "execution_count": 20,
   "metadata": {},
   "outputs": [],
   "source": [
    "def get_topk(k,city,length,min_count):    ##BOC值\n",
    "    file=\"E:/LAND USE/data/\" + city + \"/\" + city + \"_\" + str(length) + \"cell_point_tree#\" + str(min_count) + \"_new.csv\"\n",
    "#     file=\"E:/LAND USE/data/\" + city + \"/\" + city + \"_\" + str(length) + \"cell_poi_tf-idf#\" + str(min_count) + \"_new.csv\"\n",
    "    data=pd.read_csv(file)\n",
    "    data_new=[]\n",
    "    for i in tqdm(range(len(data))):\n",
    "        data_row=data.loc[i].tolist()[1:]\n",
    "        data_map={j:data_row[j] for j in range(len(data_row))}\n",
    "        data_map=sorted(data_map.items(),key = lambda x:x[1],reverse = True)\n",
    "        data_row_new=[data.loc[i,'0']]+[0 for j in range(len(data_row))]\n",
    "        num=0\n",
    "        for key,value in data_map:\n",
    "            if num>=k:\n",
    "                break\n",
    "            num+=1\n",
    "            data_row_new[key+1]=value\n",
    "        data_new.append(data_row_new)\n",
    "    data_df=pd.DataFrame(data_new)\n",
    "    out_file=\"E:/LAND USE/data/\" + city + \"/\" + city + \"_\" + str(length) + \"cell_tree_sub#\"+str(min_count)+\"$k=\"+str(k)+\"_new.csv\"\n",
    "#     out_file=\"E:/LAND USE/data/\" + city + \"/\" + city + \"_\" + str(length) + \"cell_poi_tf-idf_sub#\"+str(min_count)+\"$k=\"+str(k)+\"_new.csv\"\n",
    "    data_df.to_csv(out_file,index=False,header=False)\n",
    "    return data_new"
   ]
  },
  {
   "cell_type": "code",
   "execution_count": 22,
   "metadata": {
    "scrolled": true
   },
   "outputs": [
    {
     "name": "stderr",
     "output_type": "stream",
     "text": [
      "100%|████████████████████████████████████████████████████████████████████████████| 4596/4596 [00:01<00:00, 3462.60it/s]\n",
      "100%|████████████████████████████████████████████████████████████████████████████| 4367/4367 [00:01<00:00, 3466.34it/s]\n",
      "100%|████████████████████████████████████████████████████████████████████████████| 3662/3662 [00:01<00:00, 3429.47it/s]\n",
      "100%|████████████████████████████████████████████████████████████████████████████| 2911/2911 [00:00<00:00, 3380.48it/s]\n",
      "100%|████████████████████████████████████████████████████████████████████████████| 4346/4346 [00:01<00:00, 3352.02it/s]\n",
      "100%|████████████████████████████████████████████████████████████████████████████| 3961/3961 [00:01<00:00, 3477.64it/s]\n",
      "100%|████████████████████████████████████████████████████████████████████████████| 3187/3187 [00:00<00:00, 3393.10it/s]\n",
      "100%|████████████████████████████████████████████████████████████████████████████| 2427/2427 [00:00<00:00, 3434.12it/s]\n",
      "100%|████████████████████████████████████████████████████████████████████████████| 4521/4521 [00:01<00:00, 3486.52it/s]\n",
      "100%|████████████████████████████████████████████████████████████████████████████| 3149/3149 [00:00<00:00, 3422.06it/s]\n",
      "100%|████████████████████████████████████████████████████████████████████████████| 2326/2326 [00:00<00:00, 3280.20it/s]\n",
      "100%|████████████████████████████████████████████████████████████████████████████| 1745/1745 [00:00<00:00, 3280.01it/s]\n",
      "100%|████████████████████████████████████████████████████████████████████████████| 2770/2770 [00:00<00:00, 3322.10it/s]\n",
      "100%|████████████████████████████████████████████████████████████████████████████| 2384/2384 [00:00<00:00, 3120.62it/s]\n",
      "100%|████████████████████████████████████████████████████████████████████████████| 1855/1855 [00:00<00:00, 3203.87it/s]\n",
      "100%|████████████████████████████████████████████████████████████████████████████| 1476/1476 [00:00<00:00, 3142.14it/s]\n"
     ]
    }
   ],
   "source": [
    "import pandas as pd\n",
    "import numpy as np\n",
    "from tqdm import tqdm\n",
    "cities=[\"Milano\", \"Amsterdam\", \"Barcelona\", \"Lisboa\"]\n",
    "lengths=[200, 300, 400, 500]\n",
    "min_count=5\n",
    "k=10\n",
    "for city in cities:\n",
    "    for length in lengths:\n",
    "        data_new=get_topk(k,city,length,min_count)"
   ]
  },
  {
   "cell_type": "code",
   "execution_count": 18,
   "metadata": {},
   "outputs": [],
   "source": [
    "import pandas as pd\n",
    "import numpy as np\n",
    "from tqdm import tqdm\n",
    "cities=[\"Milano\", \"Amsterdam\", \"Barcelona\", \"Lisboa\"]\n",
    "lengths=[200, 300, 400, 500]\n",
    "min_count=5\n",
    "k=10\n",
    "for city in cities:\n",
    "    for length in lengths:\n",
    "        file=\"E:/LAND USE/data/\" + city + \"/\" + city + \"_\" + str(length) + \"cell_point_tree#\" + str(min_count) + \"_new.csv\"\n",
    "        data=pd.read_csv(file)\n",
    "        del data[\"1\"]\n",
    "        data.columns=range(len(data.loc[0]))\n",
    "        out_file=\"E:/LAND USE/data/\" + city + \"/\" + city + \"_\" + str(length) + \"cell_point_tree#\" + str(min_count) + \"_new(1).csv\"\n",
    "        data.to_csv(out_file,index=False)"
   ]
  }
 ],
 "metadata": {
  "kernelspec": {
   "display_name": "Python 3",
   "language": "python",
   "name": "python3"
  },
  "language_info": {
   "codemirror_mode": {
    "name": "ipython",
    "version": 3
   },
   "file_extension": ".py",
   "mimetype": "text/x-python",
   "name": "python",
   "nbconvert_exporter": "python",
   "pygments_lexer": "ipython3",
   "version": "3.6.5"
  }
 },
 "nbformat": 4,
 "nbformat_minor": 2
}
